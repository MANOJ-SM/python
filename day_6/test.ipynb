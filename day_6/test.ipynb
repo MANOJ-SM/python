{
 "cells": [
  {
   "cell_type": "code",
   "execution_count": 4,
   "metadata": {},
   "outputs": [
    {
     "name": "stdout",
     "output_type": "stream",
     "text": [
      "Python is a programming language that's used for a variety of purposes, including: \n",
      "Web development: Python is used to build websites and web applications \n",
      "Software development: Python is used to develop software \n",
      "Data science and machine learning: Python is used for data analysis and machine learning \n",
      "Scientific computing: Python is used for scientific computing \n",
      "Automation: Python is used to automate tasks \n",
      "Blockchain development: Python is used for blockchain development because of its security, flexibility, and functionality \n",
      "\n"
     ]
    }
   ],
   "source": [
    "file = open(\"example.txt\",\"r\")       #reads the entire file \n",
    "content = file.read()\n",
    "print(content)\n",
    "file.close()"
   ]
  },
  {
   "cell_type": "code",
   "execution_count": 5,
   "metadata": {},
   "outputs": [
    {
     "name": "stdout",
     "output_type": "stream",
     "text": [
      "Python is a programming language that's used for a variety of purposes, including: \n",
      "\n",
      "Web development: Python is used to build websites and web applications \n",
      "\n",
      "Software development: Python is used to develop software \n",
      "\n",
      "Data science and machine learning: Python is used for data analysis and machine learning \n",
      "\n",
      "Scientific computing: Python is used for scientific computing \n",
      "\n",
      "Automation: Python is used to automate tasks \n",
      "\n",
      "Blockchain development: Python is used for blockchain development because of its security, flexibility, and functionality \n",
      "\n"
     ]
    }
   ],
   "source": [
    "file = open(\"example.txt\",\"r\")\n",
    "for line in file :                  #reads the entire file line by line  \n",
    "    print(line)\n",
    "file.close()\n",
    "    "
   ]
  },
  {
   "cell_type": "code",
   "execution_count": 7,
   "metadata": {},
   "outputs": [],
   "source": [
    "file = open(\"example1.txt\",\"w\")                             # overwrite the existing file \n",
    "file.write(\"welcome to the python sesion with satya\")\n",
    "file.close()\n"
   ]
  },
  {
   "cell_type": "code",
   "execution_count": 12,
   "metadata": {},
   "outputs": [],
   "source": [
    "file = open(\"example1.txt\",\"a\")                   #appending a line in existing file \n",
    "file.write(\"\\nand manoj requested to slow down\")\n",
    "file.close()"
   ]
  },
  {
   "cell_type": "code",
   "execution_count": null,
   "metadata": {},
   "outputs": [],
   "source": []
  }
 ],
 "metadata": {
  "kernelspec": {
   "display_name": "Python 3",
   "language": "python",
   "name": "python3"
  },
  "language_info": {
   "codemirror_mode": {
    "name": "ipython",
    "version": 3
   },
   "file_extension": ".py",
   "mimetype": "text/x-python",
   "name": "python",
   "nbconvert_exporter": "python",
   "pygments_lexer": "ipython3",
   "version": "3.12.1"
  }
 },
 "nbformat": 4,
 "nbformat_minor": 2
}
