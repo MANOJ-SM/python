{
 "cells": [
  {
   "cell_type": "code",
   "execution_count": 1,
   "metadata": {},
   "outputs": [
    {
     "name": "stdout",
     "output_type": "stream",
     "text": [
      "1.0\n"
     ]
    }
   ],
   "source": [
    "import math\n",
    "\n",
    "cos_value = math.cos(0)\n",
    "print(cos_value)\n"
   ]
  },
  {
   "cell_type": "code",
   "execution_count": 2,
   "metadata": {},
   "outputs": [
    {
     "name": "stdout",
     "output_type": "stream",
     "text": [
      "2024-10-07 06:29:09.058151\n"
     ]
    }
   ],
   "source": [
    "import datetime\n",
    "#get the current date and time\n",
    "\n",
    "current_time = datetime.datetime.now()\n",
    "print(current_time)"
   ]
  },
  {
   "cell_type": "code",
   "execution_count": 3,
   "metadata": {},
   "outputs": [],
   "source": [
    "#question : ->\n",
    "# write a simple prg that calculates square root of a number\n",
    "#prints the current date and time\n",
    "#display the current working directory"
   ]
  },
  {
   "cell_type": "code",
   "execution_count": 4,
   "metadata": {},
   "outputs": [
    {
     "name": "stdout",
     "output_type": "stream",
     "text": [
      "current date and time is : 2024-10-07 06:29:48.735537\n",
      "current working directory is: /workspaces/python/day_8\n",
      "square root of 4 is: 2.0\n"
     ]
    }
   ],
   "source": [
    "import os\n",
    "import datetime\n",
    "import math\n",
    "\n",
    "current_time = datetime.datetime.now()\n",
    "working_directory = os.getcwd()\n",
    "sqrt_value = math.sqrt(4)\n",
    "\n",
    "print(f\"current date and time is : {current_time}\")\n",
    "print(f\"current working directory is: {working_directory}\")\n",
    "print(f\"square root of 4 is: {sqrt_value}\")"
   ]
  },
  {
   "cell_type": "code",
   "execution_count": null,
   "metadata": {},
   "outputs": [],
   "source": []
  }
 ],
 "metadata": {
  "kernelspec": {
   "display_name": "Python 3",
   "language": "python",
   "name": "python3"
  },
  "language_info": {
   "codemirror_mode": {
    "name": "ipython",
    "version": 3
   },
   "file_extension": ".py",
   "mimetype": "text/x-python",
   "name": "python",
   "nbconvert_exporter": "python",
   "pygments_lexer": "ipython3",
   "version": "3.12.1"
  }
 },
 "nbformat": 4,
 "nbformat_minor": 2
}
